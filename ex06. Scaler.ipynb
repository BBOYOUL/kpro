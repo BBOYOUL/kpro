{
 "cells": [
  {
   "cell_type": "code",
   "execution_count": null,
   "metadata": {},
   "outputs": [],
   "source": [
    "import pandas as pd\n",
    "import numpy as np\n"
   ]
  },
  {
   "cell_type": "markdown",
   "metadata": {},
   "source": [
    "🔧 데이터 생성"
   ]
  },
  {
   "cell_type": "code",
   "execution_count": null,
   "metadata": {},
   "outputs": [],
   "source": [
    "# 예시 데이터프레임\n",
    "np.random.seed(0)\n",
    "x1 = np.random.normal(loc=-10, scale=5, size=1000)  # 평균 -10\n",
    "x2 = np.random.normal(loc=10, scale=2, size=1000)   # 평균 10\n",
    "df = pd.DataFrame({'x1': x1, 'x2': x2})"
   ]
  },
  {
   "cell_type": "markdown",
   "metadata": {},
   "source": [
    "1️⃣ MinMaxScaler"
   ]
  },
  {
   "cell_type": "code",
   "execution_count": null,
   "metadata": {},
   "outputs": [],
   "source": [
    "from sklearn.preprocessing import MinMaxScaler\n",
    "\n",
    "scaler = MinMaxScaler()\n",
    "minmax_scaled = scaler.fit_transform(df)\n",
    "train_data_minMaxScaled = pd.DataFrame(minmax_scaled, columns=['x1', 'x2'])\n"
   ]
  },
  {
   "cell_type": "markdown",
   "metadata": {},
   "source": [
    "2️⃣ MaxAbsScaler"
   ]
  },
  {
   "cell_type": "code",
   "execution_count": null,
   "metadata": {},
   "outputs": [],
   "source": [
    "from sklearn.preprocessing import MaxAbsScaler\n",
    "\n",
    "scaler = MaxAbsScaler()\n",
    "maxabs_scaled = scaler.fit_transform(df)\n",
    "train_data_maxAbsScaled = pd.DataFrame(maxabs_scaled, columns=['x1', 'x2'])\n"
   ]
  },
  {
   "cell_type": "markdown",
   "metadata": {},
   "source": [
    "3️⃣ StandardScaler (Z-score 정규화)"
   ]
  },
  {
   "cell_type": "code",
   "execution_count": null,
   "metadata": {},
   "outputs": [],
   "source": [
    "from sklearn.preprocessing import StandardScaler\n",
    "\n",
    "scaler = StandardScaler()\n",
    "standard_scaled = scaler.fit_transform(df)\n",
    "train_data_standardScaled = pd.DataFrame(standard_scaled, columns=['x1', 'x2'])\n"
   ]
  },
  {
   "cell_type": "markdown",
   "metadata": {},
   "source": [
    "4️⃣ RobustScaler"
   ]
  },
  {
   "cell_type": "code",
   "execution_count": null,
   "metadata": {},
   "outputs": [],
   "source": [
    "from sklearn.preprocessing import RobustScaler\n",
    "\n",
    "scaler = RobustScaler()\n",
    "robust_scaled = scaler.fit_transform(df)\n",
    "train_data_robustScaled = pd.DataFrame(robust_scaled, columns=['x1', 'x2'])\n"
   ]
  },
  {
   "cell_type": "markdown",
   "metadata": {},
   "source": [
    "🎨 시각화"
   ]
  },
  {
   "cell_type": "code",
   "execution_count": null,
   "metadata": {},
   "outputs": [],
   "source": [
    "import seaborn as sns\n",
    "import matplotlib.pyplot as plt\n",
    "\n",
    "fig, axes = plt.subplots(1, 5, figsize=(20, 4))\n",
    "scalers = [\n",
    "    (\"train_data\", df),\n",
    "    (\"minMaxScaled\", train_data_minMaxScaled),\n",
    "    (\"maxAbsScaled\", train_data_maxAbsScaled),\n",
    "    (\"standardScaled\", train_data_standardScaled),\n",
    "    (\"robustScaled\", train_data_robustScaled)\n",
    "]\n",
    "\n",
    "for ax, (title, data) in zip(axes, scalers):\n",
    "    sns.kdeplot(data['x1'], ax=ax, color='red', label='x1', fill=True)\n",
    "    sns.kdeplot(data['x2'], ax=ax, color='blue', label='x2', fill=True)\n",
    "    ax.set_title(title)\n",
    "    ax.legend()\n",
    "\n",
    "plt.tight_layout()\n",
    "plt.show()\n"
   ]
  }
 ],
 "metadata": {
  "kernelspec": {
   "display_name": "kpro_39",
   "language": "python",
   "name": "python3"
  },
  "language_info": {
   "codemirror_mode": {
    "name": "ipython",
    "version": 3
   },
   "file_extension": ".py",
   "mimetype": "text/x-python",
   "name": "python",
   "nbconvert_exporter": "python",
   "pygments_lexer": "ipython3",
   "version": "3.9.21"
  }
 },
 "nbformat": 4,
 "nbformat_minor": 2
}
