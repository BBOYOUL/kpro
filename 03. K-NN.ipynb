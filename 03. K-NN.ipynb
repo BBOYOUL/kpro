{
 "cells": [
  {
   "cell_type": "code",
   "execution_count": null,
   "id": "2cc3b373",
   "metadata": {},
   "outputs": [],
   "source": [
    "import pandas as pd\n",
    "import os"
   ]
  },
  {
   "cell_type": "code",
   "execution_count": null,
   "id": "26f2526d",
   "metadata": {},
   "outputs": [],
   "source": [
    "df = pd.read_csv('./data/iris.csv')"
   ]
  },
  {
   "cell_type": "code",
   "execution_count": null,
   "id": "f1e61120",
   "metadata": {},
   "outputs": [],
   "source": [
    "df.head()"
   ]
  },
  {
   "cell_type": "code",
   "execution_count": null,
   "id": "e244e63d",
   "metadata": {},
   "outputs": [],
   "source": [
    "df.info()"
   ]
  },
  {
   "cell_type": "code",
   "execution_count": null,
   "id": "1b263a08",
   "metadata": {},
   "outputs": [],
   "source": [
    "df['Species'].value_counts()"
   ]
  },
  {
   "cell_type": "code",
   "execution_count": null,
   "id": "abc5ce17",
   "metadata": {},
   "outputs": [],
   "source": [
    "iris = df.copy()"
   ]
  },
  {
   "cell_type": "code",
   "execution_count": null,
   "id": "ed95a0a6",
   "metadata": {},
   "outputs": [],
   "source": [
    "train = iris.sample(100, replace=False, random_state=7).reset_index(drop=True)\n",
    "train"
   ]
  },
  {
   "cell_type": "code",
   "execution_count": null,
   "id": "cb6af2b3",
   "metadata": {},
   "outputs": [],
   "source": [
    "test = iris.loc[ ~iris['Id'].isin(train['Id']) ]\n",
    "# test = test.reset_index().drop(['index'],axis=1)  # 밑과 같은 코드\n",
    "test = test.reset_index(drop=True)"
   ]
  },
  {
   "cell_type": "markdown",
   "id": "0aad21ed",
   "metadata": {},
   "source": [
    "### KNN 학습 (K=3일 때)"
   ]
  },
  {
   "cell_type": "code",
   "execution_count": null,
   "id": "7adab6ba",
   "metadata": {},
   "outputs": [],
   "source": [
    "from sklearn.neighbors import KNeighborsClassifier"
   ]
  },
  {
   "cell_type": "code",
   "execution_count": null,
   "id": "c89b9217",
   "metadata": {},
   "outputs": [],
   "source": [
    "knn = KNeighborsClassifier(n_neighbors=3) # 모델 정의"
   ]
  },
  {
   "cell_type": "code",
   "execution_count": null,
   "id": "e90619cd",
   "metadata": {},
   "outputs": [],
   "source": [
    "knn.fit( train.iloc[:,1:-1] , train.iloc[:,-1] ) # 모델 학습"
   ]
  },
  {
   "cell_type": "code",
   "execution_count": null,
   "id": "8e80480e",
   "metadata": {},
   "outputs": [],
   "source": [
    "predictions = knn.predict( test.iloc[:,1:-1] ) # 예측"
   ]
  },
  {
   "cell_type": "code",
   "execution_count": null,
   "id": "97a72e6f",
   "metadata": {},
   "outputs": [],
   "source": [
    "# 방법1 : mean()\n",
    "#(pd.Series(predictions) == test['Species']).mean()\n",
    "\n",
    "# 방법2 : score\n",
    "knn.score(test.iloc[:,1:-1] , test.iloc[:,-1])"
   ]
  },
  {
   "cell_type": "markdown",
   "id": "1a15f93d",
   "metadata": {},
   "source": [
    "### 최적 K 찾기\n",
    "\n",
    "- train & test 데이터 사용\n",
    "- K값 1 ~ 30 까지 순차적 분석"
   ]
  },
  {
   "cell_type": "code",
   "execution_count": null,
   "id": "d7969f8d",
   "metadata": {},
   "outputs": [],
   "source": [
    "for k in range(1,30):\n",
    "    knn = KNeighborsClassifier(n_neighbors=k)\n",
    "    knn.fit( train.iloc[:,1:-1] , train['Species'] )\n",
    "    print(knn.score(test.iloc[:,1:-1] , test.iloc[:,-1]))"
   ]
  },
  {
   "cell_type": "code",
   "execution_count": null,
   "id": "e832de7f",
   "metadata": {},
   "outputs": [],
   "source": [
    "from sklearn import model_selection\n",
    "import matplotlib.pyplot as plt\n",
    "\n",
    "k_range = range(1,30)\n",
    "k_scores = []\n",
    "\n",
    "for k in k_range:\n",
    "    knn = KNeighborsClassifier(n_neighbors=k)\n",
    "    knn.fit( train.iloc[:,1:-1] , train['Species'] )\n",
    "    k_scores.append(knn.score(test.iloc[:,1:-1] , test.iloc[:,-1]))\n",
    "\n",
    "plt.plot(k_range, k_scores, marker='o', color='green', linestyle='dashed', markersize=5)\n",
    "plt.xlabel('Value of K for KNN')\n",
    "plt.ylabel('Accuracy')\n",
    "plt.show()"
   ]
  },
  {
   "cell_type": "markdown",
   "id": "0a555913",
   "metadata": {},
   "source": [
    "### Cross Validation 적용\n",
    "- 신뢰성 문제 고려 Train, Test 셋에 따라 결과 다르기 때문에\n",
    "- cross validation을 이용해 정학도 구해볼 수 있다."
   ]
  },
  {
   "cell_type": "code",
   "execution_count": null,
   "id": "88f88b55",
   "metadata": {},
   "outputs": [],
   "source": [
    "from sklearn.model_selection import cross_val_score\n",
    "import numpy as np"
   ]
  },
  {
   "cell_type": "code",
   "execution_count": null,
   "id": "6a153f39",
   "metadata": {},
   "outputs": [],
   "source": [
    "for k in range(1,30):\n",
    "    knn = KNeighborsClassifier(n_neighbors=k)\n",
    "    scores = cross_val_score(knn, iris.iloc[:,1:-1], iris['Species'], cv=5)\n",
    "    print(f\"{k} : \" ,np.mean(scores))"
   ]
  },
  {
   "cell_type": "code",
   "execution_count": null,
   "id": "040bc76b",
   "metadata": {},
   "outputs": [],
   "source": [
    "k_range = range(1,30)\n",
    "k_scores = []\n",
    "\n",
    "for k in k_range:\n",
    "    knn = KNeighborsClassifier(n_neighbors=k)\n",
    "    scores = cross_val_score(knn, iris.iloc[:,1:-1], iris['Species'], cv=5)\n",
    "    #print(f\"{k} : \" ,np.mean(scores))\n",
    "    k_scores.append(np.mean(scores))\n",
    "\n",
    "plt.plot(k_range, k_scores, marker='o', color='green', linestyle='dashed', markersize=5)\n",
    "plt.xlabel('Value of K for KNN')\n",
    "plt.ylabel('Cross-Validated Accuracy')\n",
    "plt.show()"
   ]
  },
  {
   "cell_type": "markdown",
   "id": "708d37a6",
   "metadata": {},
   "source": [
    "### Scaling 적용시 비교"
   ]
  },
  {
   "cell_type": "code",
   "execution_count": null,
   "id": "04b05a55",
   "metadata": {},
   "outputs": [],
   "source": [
    "from sklearn.preprocessing import StandardScaler, MinMaxScaler , RobustScaler\n",
    "\n",
    "\n",
    "scaler = StandardScaler()\n",
    "scaler.fit(train.iloc[:,1:-1])\n",
    "X_scaled = scaler.transform(train.iloc[:,1:-1])"
   ]
  },
  {
   "cell_type": "code",
   "execution_count": null,
   "id": "f7c306cb",
   "metadata": {},
   "outputs": [],
   "source": [
    "train_X = pd.DataFrame(X_scaled, columns=train.columns[1:-1])"
   ]
  },
  {
   "cell_type": "code",
   "execution_count": null,
   "id": "1965bc2e",
   "metadata": {},
   "outputs": [],
   "source": [
    "train_X"
   ]
  },
  {
   "cell_type": "code",
   "execution_count": null,
   "id": "a7fd4af6",
   "metadata": {},
   "outputs": [],
   "source": [
    "knn = KNeighborsClassifier(n_neighbors=6)\n",
    "knn.fit(train_X, train['Species'])"
   ]
  },
  {
   "cell_type": "code",
   "execution_count": null,
   "id": "7af8a523",
   "metadata": {},
   "outputs": [],
   "source": [
    "print(knn.score(train_X, train['Species']))"
   ]
  },
  {
   "cell_type": "code",
   "execution_count": null,
   "id": "9ea93660",
   "metadata": {},
   "outputs": [],
   "source": [
    "scaler.fit(test.iloc[:,1:-1])\n",
    "X_scaled = scaler.transform(test.iloc[:,1:-1])\n",
    "test_X = pd.DataFrame(X_scaled, columns=test.columns[1:-1])"
   ]
  },
  {
   "cell_type": "code",
   "execution_count": null,
   "id": "c5be96ed",
   "metadata": {},
   "outputs": [],
   "source": [
    "knn = KNeighborsClassifier(n_neighbors=6)\n",
    "knn.fit(test_X, test['Species'])\n",
    "print(knn.score(test_X, test['Species']))"
   ]
  },
  {
   "cell_type": "code",
   "execution_count": null,
   "id": "44f4f104",
   "metadata": {},
   "outputs": [],
   "source": [
    "y_pred = knn.predict(test_X)"
   ]
  },
  {
   "cell_type": "code",
   "execution_count": null,
   "id": "f4f02a7b",
   "metadata": {},
   "outputs": [],
   "source": [
    "from sklearn.metrics import classification_report, confusion_matrix\n",
    "\n",
    "print(\"✅ Classification Report:\")\n",
    "print(classification_report(test['Species'], y_pred))"
   ]
  },
  {
   "cell_type": "code",
   "execution_count": null,
   "id": "cf54ba91",
   "metadata": {},
   "outputs": [],
   "source": [
    "print(\"🧩 Confusion Matrix:\")\n",
    "print(confusion_matrix(test['Species'], y_pred))"
   ]
  },
  {
   "cell_type": "code",
   "execution_count": null,
   "id": "10f23b1f",
   "metadata": {},
   "outputs": [],
   "source": [
    "# 10. 시각화 (혼동 행렬 heatmap)\n",
    "import seaborn as sns\n",
    "plt.figure(figsize=(6, 5))\n",
    "sns.heatmap(confusion_matrix(test['Species'], y_pred), annot=True, fmt='d', cmap='Blues',\n",
    "            xticklabels=['Iris-setosa', 'Iris-versicolor', 'Iris-virginica'],\n",
    "            yticklabels=['Iris-setosa', 'Iris-versicolor', 'Iris-virginica'])\n",
    "plt.xlabel(\"Predicted\")\n",
    "plt.ylabel(\"Actual\")\n",
    "plt.title(\"Confusion Matrix\")\n",
    "plt.show()"
   ]
  }
 ],
 "metadata": {
  "kernelspec": {
   "display_name": "study_39",
   "language": "python",
   "name": "python3"
  },
  "language_info": {
   "codemirror_mode": {
    "name": "ipython",
    "version": 3
   },
   "file_extension": ".py",
   "mimetype": "text/x-python",
   "name": "python",
   "nbconvert_exporter": "python",
   "pygments_lexer": "ipython3",
   "version": "3.9.21"
  }
 },
 "nbformat": 4,
 "nbformat_minor": 5
}
