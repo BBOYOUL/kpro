{
 "cells": [
  {
   "cell_type": "code",
   "execution_count": 5,
   "id": "fff503cd",
   "metadata": {},
   "outputs": [],
   "source": [
    "import pandas as pd"
   ]
  },
  {
   "cell_type": "code",
   "execution_count": null,
   "id": "eb2dd8b6",
   "metadata": {},
   "outputs": [],
   "source": [
    "numbers = list(range(0, 101, 10))"
   ]
  },
  {
   "cell_type": "code",
   "execution_count": 6,
   "id": "45a57adb",
   "metadata": {},
   "outputs": [],
   "source": [
    "# DataFrame으로 변환\n",
    "df = pd.DataFrame(numbers, columns=[\"value\"])"
   ]
  },
  {
   "cell_type": "code",
   "execution_count": null,
   "id": "c64ea79a",
   "metadata": {},
   "outputs": [],
   "source": [
    "# pd.cut()을 사용하여 구간을 나누기"
   ]
  },
  {
   "cell_type": "code",
   "execution_count": null,
   "id": "e88948f3",
   "metadata": {},
   "outputs": [],
   "source": [
    "# pd.qcut()을 사용하여 구간을 나누기"
   ]
  }
 ],
 "metadata": {
  "kernelspec": {
   "display_name": "kpro_39",
   "language": "python",
   "name": "python3"
  },
  "language_info": {
   "codemirror_mode": {
    "name": "ipython",
    "version": 3
   },
   "file_extension": ".py",
   "mimetype": "text/x-python",
   "name": "python",
   "nbconvert_exporter": "python",
   "pygments_lexer": "ipython3",
   "version": "3.9.21"
  }
 },
 "nbformat": 4,
 "nbformat_minor": 5
}
